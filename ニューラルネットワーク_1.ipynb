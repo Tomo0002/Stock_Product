{
  "nbformat": 4,
  "nbformat_minor": 0,
  "metadata": {
    "colab": {
      "name": "ニューラルネットワーク_1.ipynb",
      "provenance": [],
      "mount_file_id": "1_2V1fbX_XKlpaLcyxegp1hHECllz8-Wr",
      "authorship_tag": "ABX9TyMPm5zFKg9m/1nFXH9+H9Ym",
      "include_colab_link": true
    },
    "kernelspec": {
      "name": "python3",
      "display_name": "Python 3"
    },
    "language_info": {
      "name": "python"
    }
  },
  "cells": [
    {
      "cell_type": "markdown",
      "metadata": {
        "id": "view-in-github",
        "colab_type": "text"
      },
      "source": [
        "<a href=\"https://colab.research.google.com/github/Tomo0002/Stock_Product/blob/main/%E3%83%8B%E3%83%A5%E3%83%BC%E3%83%A9%E3%83%AB%E3%83%8D%E3%83%83%E3%83%88%E3%83%AF%E3%83%BC%E3%82%AF_1.ipynb\" target=\"_parent\"><img src=\"https://colab.research.google.com/assets/colab-badge.svg\" alt=\"Open In Colab\"/></a>"
      ]
    },
    {
      "cell_type": "code",
      "source": [
        "import pandas as pd\n",
        "import numpy as np\n",
        "import matplotlib.pyplot as plt\n",
        "from numpy import random"
      ],
      "metadata": {
        "id": "5sVwMsGeRWnb"
      },
      "execution_count": 85,
      "outputs": []
    },
    {
      "cell_type": "code",
      "source": [
        "df = pd.read_csv(\"/content/drive/MyDrive/Colab Notebooks/東灘_150件.csv\")\n",
        "df_1 = pd.read_csv(\"/content/drive/MyDrive/Colab Notebooks/東灘_150件_ヘッダーなし.csv\", header=None, usecols=[3,4])"
      ],
      "metadata": {
        "id": "a100JQQpRbMb"
      },
      "execution_count": 475,
      "outputs": []
    },
    {
      "cell_type": "code",
      "source": [
        "data = np.array(df_1)"
      ],
      "metadata": {
        "id": "XSoa2XAuRclC"
      },
      "execution_count": 476,
      "outputs": []
    },
    {
      "cell_type": "code",
      "source": [
        "def relu(x):\n",
        "  return np.maximum(0, x)"
      ],
      "metadata": {
        "id": "yvzlruO1RlTb"
      },
      "execution_count": 412,
      "outputs": []
    },
    {
      "cell_type": "code",
      "source": [
        "def sigmoid_der(x):\n",
        "  return (1 - sigmoid(x)) * sigmoid(x)"
      ],
      "metadata": {
        "id": "jwYFL0sHRoT-"
      },
      "execution_count": 413,
      "outputs": []
    },
    {
      "cell_type": "code",
      "source": [
        "def sigmoid(x):\n",
        "  return 1/(1 + np.exp(-x))"
      ],
      "metadata": {
        "id": "5UxF4SHxRp5-"
      },
      "execution_count": 414,
      "outputs": []
    },
    {
      "cell_type": "code",
      "source": [
        "x = np.array(data)\n",
        "y = np.array(0.51)\n",
        "w = random.randn(149,149)\n",
        "\n",
        "lr = 0.03"
      ],
      "metadata": {
        "id": "S2RyWEaGRtQN"
      },
      "execution_count": 489,
      "outputs": []
    },
    {
      "cell_type": "code",
      "source": [
        "h = np.dot(w, x)"
      ],
      "metadata": {
        "id": "O-GZNHNYRyfk"
      },
      "execution_count": 490,
      "outputs": []
    },
    {
      "cell_type": "code",
      "source": [
        "y_hat = sigmoid(h)"
      ],
      "metadata": {
        "id": "3wQIOTgBSBup"
      },
      "execution_count": 491,
      "outputs": []
    },
    {
      "cell_type": "code",
      "source": [
        "error = y - y_hat\n",
        "error_team = error * sigmoid_der(h)"
      ],
      "metadata": {
        "id": "wdaPac6kSIU5"
      },
      "execution_count": 492,
      "outputs": []
    },
    {
      "cell_type": "code",
      "source": [
        "del_w = lr * error_team * x"
      ],
      "metadata": {
        "id": "f3bsGsL0SJwZ"
      },
      "execution_count": 493,
      "outputs": []
    },
    {
      "cell_type": "code",
      "source": [
        "sum(error)"
      ],
      "metadata": {
        "colab": {
          "base_uri": "https://localhost:8080/"
        },
        "id": "iShvkMZYmDgD",
        "outputId": "5ae08581-4a5a-42b8-9a2e-e1658eda52da"
      },
      "execution_count": 494,
      "outputs": [
        {
          "output_type": "execute_result",
          "data": {
            "text/plain": [
              "array([-4.17827192, -3.683268  ])"
            ]
          },
          "metadata": {},
          "execution_count": 494
        }
      ]
    },
    {
      "cell_type": "code",
      "source": [
        "print(\"Output\",sum(h))"
      ],
      "metadata": {
        "colab": {
          "base_uri": "https://localhost:8080/"
        },
        "id": "gRpV6yDdWz8Q",
        "outputId": "5fc086b5-844e-4057-caed-65cfd2dec341"
      },
      "execution_count": 495,
      "outputs": [
        {
          "output_type": "stream",
          "name": "stdout",
          "text": [
            "Output [39.38032644 35.2837282 ]\n"
          ]
        }
      ]
    },
    {
      "cell_type": "code",
      "source": [
        "plt.plot(h)"
      ],
      "metadata": {
        "colab": {
          "base_uri": "https://localhost:8080/",
          "height": 300
        },
        "id": "PHtLjTcpSLFB",
        "outputId": "1a8ed7eb-29fe-4074-fc5b-abf42f610b24"
      },
      "execution_count": 496,
      "outputs": [
        {
          "output_type": "execute_result",
          "data": {
            "text/plain": [
              "[<matplotlib.lines.Line2D at 0x7fcb340dbe50>,\n",
              " <matplotlib.lines.Line2D at 0x7fcb340db110>]"
            ]
          },
          "metadata": {},
          "execution_count": 496
        },
        {
          "output_type": "display_data",
          "data": {
            "text/plain": [
              "<Figure size 432x288 with 1 Axes>"
            ],
            "image/png": "[encoded data removed]"
          },
          "metadata": {
            "needs_background": "light"
          }
        }
      ]
    },
    {
      "cell_type": "code",
      "source": [
        ""
      ],
      "metadata": {
        "id": "4k_ol11ml-9E"
      },
      "execution_count": null,
      "outputs": []
    }
  ]
}